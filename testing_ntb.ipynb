{
    "cells": [
        {
            "cell_type": "code",
            "execution_count": 1,
            "source": [
                "import datasets"
            ],
            "outputs": [],
            "metadata": {}
        },
        {
            "cell_type": "code",
            "execution_count": 8,
            "source": [
                "ds1 = datasets.Dataset1(\"../BIO_data/DB_UoA\")\n",
                "print(len(ds1))\n",
                "ds1[0]"
            ],
            "outputs": [
                {
                    "output_type": "stream",
                    "name": "stdout",
                    "text": [
                        "200\n"
                    ]
                },
                {
                    "output_type": "execute_result",
                    "data": {
                        "text/plain": [
                            "(<PIL.Image.Image image mode=RGB size=2124x2056 at 0x7FB91C0500D0>,\n",
                            " (<PIL.JpegImagePlugin.JpegImageFile image mode=RGB size=2124x2056 at 0x7FB8A00708B0>,\n",
                            "  <PIL.JpegImagePlugin.JpegImageFile image mode=RGB size=2124x2056 at 0x7FB8A00707C0>,\n",
                            "  <PIL.JpegImagePlugin.JpegImageFile image mode=RGB size=2124x2056 at 0x7FB8A0070A60>))"
                        ]
                    },
                    "metadata": {},
                    "execution_count": 8
                }
            ],
            "metadata": {}
        },
        {
            "cell_type": "code",
            "execution_count": 9,
            "source": [
                "ds2 = datasets.Dataset2(\"../BIO_data/Database\", split='test')\n",
                "print(len(ds2))\n",
                "ds2[0]"
            ],
            "outputs": [
                {
                    "output_type": "stream",
                    "name": "stdout",
                    "text": [
                        "27\n"
                    ]
                },
                {
                    "output_type": "execute_result",
                    "data": {
                        "text/plain": [
                            "(<PIL.Image.Image image mode=RGB size=4288x2848 at 0x7FB91C0FBA60>,\n",
                            " (<PIL.TiffImagePlugin.TiffImageFile image mode=P size=4288x2848 at 0x7FB8A00FA7C0>,\n",
                            "  <PIL.TiffImagePlugin.TiffImageFile image mode=P size=4288x2848 at 0x7FB91C10DF70>,\n",
                            "  <PIL.TiffImagePlugin.TiffImageFile image mode=P size=4288x2848 at 0x7FB8A0070430>,\n",
                            "  <PIL.TiffImagePlugin.TiffImageFile image mode=P size=4288x2848 at 0x7FB8A0169670>,\n",
                            "  <PIL.TiffImagePlugin.TiffImageFile image mode=P size=4288x2848 at 0x7FB8A0169CD0>))"
                        ]
                    },
                    "metadata": {},
                    "execution_count": 9
                }
            ],
            "metadata": {}
        },
        {
            "cell_type": "code",
            "execution_count": 30,
            "source": [
                "import os\n",
                "\n",
                "root = \"../BIO_data/DB_UoA\"\n",
                "\n",
                "\n",
                "objs = list(filter(os.path.isdir, [os.path.join(root, d) for d in os.listdir(root)]))\n",
                "objs.sort()\n",
                "images = []\n",
                "targets = []\n",
                "target_type = (\"idk\", \"idk2\", \"idk3\")\n",
                "\n",
                "\n",
                "for obj in objs:\n",
                "    files = [os.path.join(obj, f) for f in os.listdir(obj)]\n",
                "    files.sort()\n",
                "    images.append(files[-1])\n",
                "    targets.append(files[:-1])"
            ],
            "outputs": [],
            "metadata": {}
        },
        {
            "cell_type": "code",
            "execution_count": 5,
            "source": [
                "import os\n",
                "\n",
                "root = \"../BIO_data/Database\"\n",
                "\n",
                "split = \"test\"\n",
                "\n",
                "dataset_path = {\n",
                "    \"train\" : \"a. Training Set\",\n",
                "    \"test\" : \"b. Testing Set\"\n",
                "}\n",
                "\n",
                "if split not in dataset_path:\n",
                "    assert \"err\"\n",
                "\n",
                "\n",
                "images = os.listdir(os.path.join(root, \"A. Segmentation\", \"1. Original Images\", dataset_path[split] ) )\n",
                "images = [ os.path.join(root, \"A. Segmentation\", \"1. Original Images\", dataset_path[split], f) for f in images]\n",
                "images.sort()\n",
                "\n",
                "targets = {\n",
                "    \"1. Microaneurysms\" : None,\n",
                "    \"2. Haemorrhages\"   : None,\n",
                "    \"3. Hard Exudates\"  : None,\n",
                "    \"4. Soft Exudates\"  : None,\n",
                "    \"5. Optic Disc\"     : None,\n",
                "}\n",
                "\n",
                "for t in targets:\n",
                "    targets[t] = os.listdir( os.path.join(root , \"A. Segmentation\" , \"2. All Segmentation Groundtruths\" , dataset_path[split] , t) )\n",
                "    targets[t] = [ os.path.join(root , \"A. Segmentation\" , \"2. All Segmentation Groundtruths\" , dataset_path[split] , t, f) for f in targets[t]]\n",
                "    targets[t].sort()"
            ],
            "outputs": [],
            "metadata": {}
        },
        {
            "cell_type": "code",
            "execution_count": 6,
            "source": [
                "for i in targets:\n",
                "    print (targets[i][:1])"
            ],
            "outputs": [
                {
                    "output_type": "stream",
                    "name": "stdout",
                    "text": [
                        "['../BIO_data/Database/A. Segmentation/2. All Segmentation Groundtruths/b. Testing Set/1. Microaneurysms/IDRiD_55_MA.tif']\n",
                        "['../BIO_data/Database/A. Segmentation/2. All Segmentation Groundtruths/b. Testing Set/2. Haemorrhages/IDRiD_55_HE.tif']\n",
                        "['../BIO_data/Database/A. Segmentation/2. All Segmentation Groundtruths/b. Testing Set/3. Hard Exudates/IDRiD_55_EX.tif']\n",
                        "['../BIO_data/Database/A. Segmentation/2. All Segmentation Groundtruths/b. Testing Set/4. Soft Exudates/IDRiD_55_SE.tif']\n",
                        "['../BIO_data/Database/A. Segmentation/2. All Segmentation Groundtruths/b. Testing Set/5. Optic Disc/IDRiD_55_OD.tif']\n"
                    ]
                }
            ],
            "metadata": {}
        },
        {
            "cell_type": "code",
            "execution_count": null,
            "source": [],
            "outputs": [],
            "metadata": {}
        }
    ],
    "metadata": {
        "orig_nbformat": 4,
        "language_info": {
            "name": "python",
            "version": "3.8.10",
            "mimetype": "text/x-python",
            "codemirror_mode": {
                "name": "ipython",
                "version": 3
            },
            "pygments_lexer": "ipython3",
            "nbconvert_exporter": "python",
            "file_extension": ".py"
        },
        "kernelspec": {
            "name": "python3",
            "display_name": "Python 3.8.10 64-bit"
        },
        "interpreter": {
            "hash": "e7370f93d1d0cde622a1f8e1c04877d8463912d04d973331ad4851f04de6915a"
        }
    },
    "nbformat": 4,
    "nbformat_minor": 2
}